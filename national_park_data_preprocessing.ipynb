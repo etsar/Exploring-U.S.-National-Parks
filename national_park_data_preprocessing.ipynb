{
 "cells": [
  {
   "cell_type": "markdown",
   "id": "fce4f3a8",
   "metadata": {},
   "source": [
    "# National Park Data Preprocessing"
   ]
  },
  {
   "cell_type": "markdown",
   "id": "fc5cc3e5",
   "metadata": {},
   "source": [
    "This Jupyter Notebook contains data processing for national park statistics. The data is gathered from multiple national parks across the United States. <br>The goal is to preprocess and consolidate visitor statistics, campground usage, and other relevant information into single dataframe."
   ]
  },
  {
   "cell_type": "code",
   "execution_count": 1,
   "id": "43b464b5",
   "metadata": {},
   "outputs": [],
   "source": [
    "import pandas as pd"
   ]
  },
  {
   "cell_type": "code",
   "execution_count": 2,
   "id": "9ed68126",
   "metadata": {},
   "outputs": [],
   "source": [
    "# list of national parks' abbreviations\n",
    "parks = ['ACAD', 'ARCH', 'BADL', 'BIBE', 'BISC', 'BLCA', 'BRCA', 'CANY', 'CARE', 'CAVE', 'CHIS', 'CONG', 'CRLA', 'CUVA', 'DEVA', 'DENA', 'DRTO', 'EVER', 'GAAR', 'JEFF', 'GLBA', 'GLAC', 'GRCA', 'GRTE', 'GRBA', 'GRSA', 'GRSM', 'GUMO', 'HALE', 'HAVO', 'HOSP', 'INDU', 'ISRO', 'JOTR', 'KATM', 'KEFJ', 'KICA', 'KOVA', 'LACL', 'LAVO', 'MACA', 'MEVE', 'MORA', 'NPSA', 'NERI', 'NOCA', 'OLYM', 'PEFO', 'PINN', 'REDW', 'ROMO', 'SAGU', 'SEQU', 'SHEN', 'THRO', 'VIIS', 'VOYA', 'WHSA', 'WICA', 'WRST', 'YELL', 'YOSE', 'ZION']"
   ]
  },
  {
   "cell_type": "code",
   "execution_count": 3,
   "id": "f795a70f",
   "metadata": {},
   "outputs": [],
   "source": [
    "# function that creates year and month columns based on a column\n",
    "def year_month_col(col):\n",
    "    current_year = None\n",
    "    years = []\n",
    "    months = []\n",
    "    for value in col:\n",
    "        if isinstance(value, int):\n",
    "            current_year = value\n",
    "            years.append(None)\n",
    "            months.append(None)\n",
    "        elif isinstance(value, str) and 'Totals' not in value:\n",
    "            years.append(current_year)\n",
    "            months.append(value)\n",
    "        else:\n",
    "            years.append(None)\n",
    "            months.append(None)\n",
    "    df['Year'] = years\n",
    "    df['Month'] = months\n",
    "    return None"
   ]
  },
  {
   "cell_type": "code",
   "execution_count": 4,
   "id": "e3c7b77d",
   "metadata": {},
   "outputs": [
   ],
   "source": [
    "# an empty list to store DataFrames\n",
    "dfs = []\n",
    "\n",
    "# iterate over files with national parks' statistics\n",
    "for park in parks:\n",
    "    # read excel files into a DataFrame\n",
    "    df = pd.read_excel(f'{park}.xlsx')\n",
    "    # paste the name of the park into the column 'Unnamed: 1'\n",
    "    df['Unnamed: 1'] = df['Unnamed: 1'][0]\n",
    "    # create year and month columns based on column 'Unnamed: 2'\n",
    "    year_month_col(df['Unnamed: 2'])\n",
    "    # remove columns 'Unnamed: 0' and 'Unnamed: 2'\n",
    "    df = df.drop(['Unnamed: 0', 'Unnamed: 2'], axis = 1)\n",
    "    # rename columns\n",
    "    df.columns = ['National Park', 'Recreation Visitors', 'Non-Recreation Visitors', 'Concession Lodging', \\\n",
    "              'Tent Campers', 'RV Campers', 'Concession Camping', 'Backcountry Campers', 'Misc Campers', \\\n",
    "              'Total Overnight Stays', 'Year', 'Month']\n",
    "    # remove NaN values\n",
    "    df = df.dropna()\n",
    "    # change data type to int\n",
    "    df.loc[:, 'Year'] = df['Year'].astype(int)\n",
    "    \n",
    "    # append the DataFrame to the list\n",
    "    dfs.append(df)\n",
    "\n",
    "# concatenate all DataFrames in the list into a single DataFrame\n",
    "result_df = pd.concat(dfs, ignore_index=True)\n",
    "\n",
    "# save the concatenated DataFrame to the output file\n",
    "result_df.to_excel('output.xlsx')"
   ]
  }
 ],
 "metadata": {
  "kernelspec": {
   "display_name": "Python 3 (ipykernel)",
   "language": "python",
   "name": "python3"
  },
  "language_info": {
   "codemirror_mode": {
    "name": "ipython",
    "version": 3
   },
   "file_extension": ".py",
   "mimetype": "text/x-python",
   "name": "python",
   "nbconvert_exporter": "python",
   "pygments_lexer": "ipython3",
   "version": "3.11.3"
  }
 },
 "nbformat": 4,
 "nbformat_minor": 5
}
